{
 "cells": [
  {
   "cell_type": "code",
   "execution_count": 1,
   "id": "46e5cc05",
   "metadata": {},
   "outputs": [],
   "source": [
    "from Fuzzy_set import Fuzzy_set, Fuzzy_field"
   ]
  },
  {
   "cell_type": "markdown",
   "id": "3b35255e",
   "metadata": {},
   "source": [
    "# Basic operation of trapezoidal fuzzy sets"
   ]
  },
  {
   "cell_type": "markdown",
   "id": "c7c15f8f",
   "metadata": {},
   "source": [
    "## Initialization of trapezoidal fuzzy sets"
   ]
  },
  {
   "cell_type": "markdown",
   "id": "ac7a6cc6",
   "metadata": {},
   "source": [
    "#### A = Fuzzy\\_set(m, M, a, b, inverted=False)"
   ]
  },
  {
   "cell_type": "code",
   "execution_count": 2,
   "id": "876cd110",
   "metadata": {},
   "outputs": [],
   "source": [
    "A = Fuzzy_set(5, 6, 1, 1)\n",
    "B = Fuzzy_set(7, 8, 3, 2)\n",
    "\n",
    "# Equivalent to\n",
    "\n",
    "set1 = (5, 6, 1, 1)\n",
    "set2 = (5, 6, 1, 1)\n",
    "A1 = Fuzzy_set(*set1)\n",
    "B1 = Fuzzy_set(*set2)"
   ]
  },
  {
   "cell_type": "markdown",
   "id": "f2d8a7e4",
   "metadata": {},
   "source": [
    "## Addition of trapezoidal fuzzy sets"
   ]
  },
  {
   "cell_type": "markdown",
   "id": "48024f48",
   "metadata": {},
   "source": [
    "$$ A=A_{1}(+)A_{2}=\\{\n",
    "m_{1}+m_{2},\\ \n",
    "M_{1}+M_{2},\\ \n",
    "\\alpha_{1}+\\alpha_{2},\\ \n",
    "\\beta_{1}+\\beta_{2}\n",
    "\\} $$"
   ]
  },
  {
   "cell_type": "code",
   "execution_count": 3,
   "id": "ccda5528",
   "metadata": {},
   "outputs": [],
   "source": [
    "C = A + B\n",
    "A1 += B1"
   ]
  },
  {
   "cell_type": "markdown",
   "id": "1b3685c5",
   "metadata": {},
   "source": [
    "## Subtraction trapezoidal fuzzy sets"
   ]
  },
  {
   "cell_type": "markdown",
   "id": "d252fea2",
   "metadata": {},
   "source": [
    "$$ A=A_{1}(-)A_{2}=\\{\n",
    "m_{1}-M_{2},\\ \n",
    "M_{1}-m_{2},\\ \n",
    "\\alpha_{1}+\\beta_{2},\\ \n",
    "\\beta_{1}+\\alpha_{2}\n",
    "\\} $$"
   ]
  },
  {
   "cell_type": "code",
   "execution_count": 4,
   "id": "6a163749",
   "metadata": {},
   "outputs": [],
   "source": [
    "D = A - B\n",
    "A1 -= B1"
   ]
  },
  {
   "cell_type": "markdown",
   "id": "b8fe8b63",
   "metadata": {},
   "source": [
    "## Trapezoidal multiplication of fuzzy sets"
   ]
  },
  {
   "cell_type": "markdown",
   "id": "22ed2fff",
   "metadata": {},
   "source": [
    "$$ A=A_{1}(\\times)A_{2}=\\{\n",
    "m_{1}*m_{2},\\ \n",
    "M_{1}*M_{2},\\ \n",
    "m_{1}*m_{2}-(m_{1}-\\alpha_{1})(m_{2}-\\alpha_{2}),\\ \n",
    "(M_{1}+\\beta_{1})(M_{2}+\\beta_{2})-M_{1}*M_{2}\n",
    "\\} $$"
   ]
  },
  {
   "cell_type": "code",
   "execution_count": 5,
   "id": "f1b480bc",
   "metadata": {},
   "outputs": [],
   "source": [
    "E = A * B\n",
    "A1 *= B1"
   ]
  },
  {
   "cell_type": "markdown",
   "id": "db548522",
   "metadata": {},
   "source": [
    "## Division of trapezoidal fuzzy sets"
   ]
  },
  {
   "cell_type": "markdown",
   "id": "16319e28",
   "metadata": {},
   "source": [
    "$$ A=A_{1}(\\div)A_{2}=\\{m_{1}/M_{2},\\ \n",
    "M_{1}/m_{2},\\ \n",
    "(m_{1}*\\beta_{2})(M_{2}*\\alpha_{1})/(M_{2}^2+M_{2}*\\beta_{2}),\\ \n",
    "(m_{2}*\\beta_{1})(M_{1}*\\alpha_{2})/(m_{2}^2+m_{2}*\\alpha_{2})\\} $$"
   ]
  },
  {
   "cell_type": "code",
   "execution_count": 6,
   "id": "74d4eefd",
   "metadata": {},
   "outputs": [],
   "source": [
    "F = A / B\n",
    "A1 /= B1"
   ]
  },
  {
   "cell_type": "markdown",
   "id": "f3b910c6",
   "metadata": {},
   "source": [
    "## Exponentiation"
   ]
  },
  {
   "cell_type": "code",
   "execution_count": 7,
   "id": "d9072e2a",
   "metadata": {},
   "outputs": [],
   "source": [
    "G = A**3\n",
    "A1 **= 3"
   ]
  },
  {
   "cell_type": "markdown",
   "id": "be750713",
   "metadata": {},
   "source": [
    "## Mean and variance of fuzzy set"
   ]
  },
  {
   "cell_type": "markdown",
   "id": "d5096f19",
   "metadata": {},
   "source": [
    "$$ E(A) = \\frac{(m-\\alpha) + 2m + 2M + (M+\\beta)}{6} $$"
   ]
  },
  {
   "cell_type": "markdown",
   "id": "8c4fe6ec",
   "metadata": {},
   "source": [
    "$$ Var(A) = \\frac{[(M+\\beta) - (m-\\alpha)]^2 + 2[(M+\\beta) - (m-\\alpha)](M-m) + 3(M-m)^2}{24} $$"
   ]
  },
  {
   "cell_type": "code",
   "execution_count": 8,
   "id": "e79a3c1d",
   "metadata": {},
   "outputs": [
    {
     "name": "stdout",
     "output_type": "stream",
     "text": [
      "5.5\n",
      "0.75\n"
     ]
    }
   ],
   "source": [
    "print(A.mean())\n",
    "print(A.var())"
   ]
  },
  {
   "cell_type": "markdown",
   "id": "f1ec96bf",
   "metadata": {},
   "source": [
    "## The probability of occurrence of a number in a set"
   ]
  },
  {
   "cell_type": "markdown",
   "id": "f45e5d5b",
   "metadata": {},
   "source": [
    "$$ \\mu_{A}(x) = \\begin{cases} \n",
    "0, & \\mbox{x} \\leq \\mbox{(m - }\\alpha) \\ \\ \\mbox{OR}\\ \\ \\mbox{x} \\geq \\mbox{M+}\\beta \\\\\n",
    "\\frac{x - (m - \\alpha)}{m - (m-\\alpha)}, & \\mbox{m - }\\alpha \\mbox{< x < m} \\\\\n",
    "1, & \\mbox{m} \\leq \\mbox{x} \\leq \\mbox{M} \\\\\n",
    "\\frac{(M + \\beta) - x}{(M + \\beta) - M}, & \\mbox{M < x < M + }\\beta\n",
    "\\end{cases} $$"
   ]
  },
  {
   "cell_type": "code",
   "execution_count": 9,
   "id": "f720a15e",
   "metadata": {},
   "outputs": [
    {
     "name": "stdout",
     "output_type": "stream",
     "text": [
      "0.1\n",
      "1\n",
      "0.9\n"
     ]
    }
   ],
   "source": [
    "print(A.probability(4.1))\n",
    "print(A.probability(5.5))\n",
    "print(A.probability(6.1))"
   ]
  },
  {
   "cell_type": "markdown",
   "id": "2b1f0eee",
   "metadata": {},
   "source": [
    "## Fuzzy set visualization"
   ]
  },
  {
   "cell_type": "code",
   "execution_count": 10,
   "id": "2b23d6db",
   "metadata": {},
   "outputs": [
    {
     "data": {
      "image/png": "[encoded data removed]",
      "text/plain": [
       "<Figure size 432x288 with 1 Axes>"
      ]
     },
     "metadata": {
      "needs_background": "light"
     },
     "output_type": "display_data"
    }
   ],
   "source": [
    "A.draw_set()"
   ]
  },
  {
   "cell_type": "code",
   "execution_count": 11,
   "id": "00a09fde",
   "metadata": {},
   "outputs": [
    {
     "data": {
      "image/png": "[encoded data removed]",
      "text/plain": [
       "<Figure size 432x288 with 1 Axes>"
      ]
     },
     "metadata": {
      "needs_background": "light"
     },
     "output_type": "display_data"
    }
   ],
   "source": [
    "A.draw_set(bounds=False)"
   ]
  },
  {
   "cell_type": "markdown",
   "id": "dfcb57fa",
   "metadata": {},
   "source": [
    "### Supplement (Inversion) of a set and creating an inverted set"
   ]
  },
  {
   "cell_type": "markdown",
   "id": "522256ce",
   "metadata": {},
   "source": [
    "$$ \\mu_{\\neg{A}}(x) = 1 - \\mu_{A}(x) $$"
   ]
  },
  {
   "cell_type": "code",
   "execution_count": 12,
   "id": "4b649d94",
   "metadata": {},
   "outputs": [],
   "source": [
    "A1 = ~A\n",
    "\n",
    "# Equivalent to\n",
    "\n",
    "A1 = Fuzzy_set(5, 6, 1, 1, inverted=True)"
   ]
  },
  {
   "cell_type": "markdown",
   "id": "2b7eff37",
   "metadata": {},
   "source": [
    "## Supremum / Infimum of two sets"
   ]
  },
  {
   "cell_type": "markdown",
   "id": "acee446d",
   "metadata": {},
   "source": [
    "$$ \\sup_{x\\ \\in\\ X} (A,B) = \\max\\min\\{\\mu_{A}(x),\\ \\mu_{B}(x)\\} $$"
   ]
  },
  {
   "cell_type": "markdown",
   "id": "44d59a72",
   "metadata": {},
   "source": [
    "$$ \\inf_{x\\ \\in\\ X} (A,B) = \\min\\max\\{\\mu_{A}(x),\\ \\mu_{B}(x)\\} $$"
   ]
  },
  {
   "cell_type": "code",
   "execution_count": 13,
   "id": "946be112",
   "metadata": {},
   "outputs": [
    {
     "name": "stdout",
     "output_type": "stream",
     "text": [
      "1\n",
      "0.25\n"
     ]
    }
   ],
   "source": [
    "print(A.supr(B))\n",
    "print(A1.inf(B))"
   ]
  },
  {
   "cell_type": "markdown",
   "id": "6b48226d",
   "metadata": {},
   "source": [
    "## Core of fuzzy set"
   ]
  },
  {
   "cell_type": "code",
   "execution_count": 14,
   "id": "bca1dfb3",
   "metadata": {},
   "outputs": [
    {
     "data": {
      "text/plain": [
       "(5, 6)"
      ]
     },
     "execution_count": 14,
     "metadata": {},
     "output_type": "execute_result"
    }
   ],
   "source": [
    "A.core()"
   ]
  },
  {
   "cell_type": "markdown",
   "id": "6bca65b1",
   "metadata": {},
   "source": [
    "## Support of fuzzy set"
   ]
  },
  {
   "cell_type": "code",
   "execution_count": 15,
   "id": "bb2261bc",
   "metadata": {},
   "outputs": [
    {
     "data": {
      "text/plain": [
       "(4, 7)"
      ]
     },
     "execution_count": 15,
     "metadata": {},
     "output_type": "execute_result"
    }
   ],
   "source": [
    "A.support()"
   ]
  },
  {
   "cell_type": "markdown",
   "id": "e6b3d1ef",
   "metadata": {},
   "source": [
    "<h2>&#945;_level of fuzzy set</h2>"
   ]
  },
  {
   "cell_type": "code",
   "execution_count": 16,
   "id": "a8baf2ed",
   "metadata": {},
   "outputs": [
    {
     "data": {
      "text/plain": [
       "(3.6, 5.2)"
      ]
     },
     "execution_count": 16,
     "metadata": {},
     "output_type": "execute_result"
    }
   ],
   "source": [
    "A.a_level(0.4)"
   ]
  },
  {
   "cell_type": "markdown",
   "id": "09c7077c",
   "metadata": {},
   "source": [
    "### Transition points of fuzzy set"
   ]
  },
  {
   "cell_type": "code",
   "execution_count": 17,
   "id": "b6f2ddb2",
   "metadata": {},
   "outputs": [
    {
     "data": {
      "text/plain": [
       "(4.5, 6.5)"
      ]
     },
     "execution_count": 17,
     "metadata": {},
     "output_type": "execute_result"
    }
   ],
   "source": [
    "A.transition_points()"
   ]
  },
  {
   "cell_type": "markdown",
   "id": "8aa4c8da",
   "metadata": {},
   "source": [
    "### Params (m, M, a, b, inverted) of fuzzy set"
   ]
  },
  {
   "cell_type": "code",
   "execution_count": 18,
   "id": "9dcd3972",
   "metadata": {},
   "outputs": [
    {
     "data": {
      "text/plain": [
       "(5, 6, 1, 1, False)"
      ]
     },
     "execution_count": 18,
     "metadata": {},
     "output_type": "execute_result"
    }
   ],
   "source": [
    "A.params()"
   ]
  },
  {
   "cell_type": "markdown",
   "id": "2527bda3",
   "metadata": {},
   "source": [
    "<h3>Line coefficients of fuzzy set</h3><br>\n",
    "<h3>Straight lines define areas of fuzziness</h3><br>"
   ]
  },
  {
   "cell_type": "code",
   "execution_count": 19,
   "id": "dd3ce8e6",
   "metadata": {},
   "outputs": [
    {
     "data": {
      "text/plain": [
       "((1.0, -1.0), (-4.0, 7.0))"
      ]
     },
     "execution_count": 19,
     "metadata": {},
     "output_type": "execute_result"
    }
   ],
   "source": [
    "A.coefs()"
   ]
  },
  {
   "cell_type": "markdown",
   "id": "fedb6b71",
   "metadata": {},
   "source": [
    "<h4>(k<sub>left</sub>, k<sub>right</sub>), (b<sub>left</sub>, b<sub>right</sub>)</h4>"
   ]
  },
  {
   "cell_type": "markdown",
   "id": "7ff05f38",
   "metadata": {},
   "source": [
    "# Fuzzy fields initialization"
   ]
  },
  {
   "cell_type": "code",
   "execution_count": 20,
   "id": "eff9724d",
   "metadata": {},
   "outputs": [
    {
     "name": "stdout",
     "output_type": "stream",
     "text": [
      "Fuzzy_field(3 sets)\n"
     ]
    }
   ],
   "source": [
    "Q = Fuzzy_field(A, A1, B)\n",
    "\n",
    "# Equivalent to\n",
    "\n",
    "Q = Fuzzy_field()\n",
    "Q.add(A, A1, B)\n",
    "print(Q)"
   ]
  },
  {
   "cell_type": "markdown",
   "id": "9325e5b2",
   "metadata": {},
   "source": [
    "### Get information about fuzzy field"
   ]
  },
  {
   "cell_type": "code",
   "execution_count": 21,
   "id": "20669230",
   "metadata": {},
   "outputs": [
    {
     "name": "stdout",
     "output_type": "stream",
     "text": [
      "3 sets:\n",
      "1: (5, 6, 1, 1, True)\n",
      "2: (7, 8, 3, 2, False)\n",
      "3: (5, 6, 1, 1, False)\n"
     ]
    }
   ],
   "source": [
    "Q.field_info()"
   ]
  },
  {
   "cell_type": "markdown",
   "id": "f69e486a",
   "metadata": {},
   "source": [
    "### The field contains only unique fuzzy sets"
   ]
  },
  {
   "cell_type": "code",
   "execution_count": 22,
   "id": "55aee938",
   "metadata": {},
   "outputs": [
    {
     "name": "stdout",
     "output_type": "stream",
     "text": [
      "Fuzzy_field(3 sets)\n"
     ]
    }
   ],
   "source": [
    "Q.add(A)\n",
    "print(Q)"
   ]
  },
  {
   "cell_type": "markdown",
   "id": "2148896d",
   "metadata": {},
   "source": [
    "#### Fuzzy field still contains 3 fuzzy sets"
   ]
  },
  {
   "cell_type": "markdown",
   "id": "9607cdc7",
   "metadata": {},
   "source": [
    "## Fuzzy field visualization"
   ]
  },
  {
   "cell_type": "code",
   "execution_count": 23,
   "id": "936aa2f8",
   "metadata": {},
   "outputs": [
    {
     "data": {
      "image/png": "[encoded data removed]",
      "text/plain": [
       "<Figure size 432x288 with 1 Axes>"
      ]
     },
     "metadata": {
      "needs_background": "light"
     },
     "output_type": "display_data"
    }
   ],
   "source": [
    "Q.draw_field()"
   ]
  },
  {
   "cell_type": "code",
   "execution_count": 24,
   "id": "792eda14",
   "metadata": {},
   "outputs": [
    {
     "data": {
      "image/png": "[encoded data removed]",
      "text/plain": [
       "<Figure size 432x288 with 1 Axes>"
      ]
     },
     "metadata": {
      "needs_background": "light"
     },
     "output_type": "display_data"
    }
   ],
   "source": [
    "Q.draw_field(bounds=True)"
   ]
  }
 ],
 "metadata": {
  "kernelspec": {
   "display_name": "Python 3",
   "language": "python",
   "name": "python3"
  },
  "language_info": {
   "codemirror_mode": {
    "name": "ipython",
    "version": 3
   },
   "file_extension": ".py",
   "mimetype": "text/x-python",
   "name": "python",
   "nbconvert_exporter": "python",
   "pygments_lexer": "ipython3",
   "version": "3.8.8"
  }
 },
 "nbformat": 4,
 "nbformat_minor": 5
}
