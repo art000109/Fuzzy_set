{
 "cells": [
  {
   "cell_type": "code",
   "execution_count": 1,
   "id": "ae690d94",
   "metadata": {},
   "outputs": [],
   "source": [
    "from Fuzzy_set import Fuzzy_set, Fuzzy_field\n",
    "import fuzzy_sort"
   ]
  },
  {
   "cell_type": "markdown",
   "id": "5fc912a3",
   "metadata": {},
   "source": [
    "## In this example, 5 methods for ranking fuzzy trapezoidal sets will be shown."
   ]
  },
  {
   "cell_type": "markdown",
   "id": "056c364e",
   "metadata": {},
   "source": [
    "### Let us have 3 projects and we need to understand which one will be the most profitable in terms of profit."
   ]
  },
  {
   "cell_type": "code",
   "execution_count": 2,
   "id": "60934b55",
   "metadata": {},
   "outputs": [],
   "source": [
    "A = Fuzzy_set(5, 5, 2, 4)\n",
    "B = Fuzzy_set(7, 7, 4, 1)\n",
    "C = Fuzzy_set(6, 6, 5, 4)"
   ]
  },
  {
   "cell_type": "markdown",
   "id": "1c51f01f",
   "metadata": {},
   "source": [
    "### Visualizing sets"
   ]
  },
  {
   "cell_type": "code",
   "execution_count": 3,
   "id": "a6fae5d6",
   "metadata": {},
   "outputs": [
    {
     "data": {
      "image/png": "[encoded data removed]",
      "text/plain": [
       "<Figure size 432x288 with 1 Axes>"
      ]
     },
     "metadata": {
      "needs_background": "light"
     },
     "output_type": "display_data"
    }
   ],
   "source": [
    "Q = Fuzzy_field(A, B, C)\n",
    "Q.draw_field()"
   ]
  },
  {
   "cell_type": "markdown",
   "id": "07e40a5e",
   "metadata": {},
   "source": [
    "## Chew-Park method"
   ]
  },
  {
   "cell_type": "markdown",
   "id": "879d6e4f",
   "metadata": {},
   "source": [
    "$$ CP(A) = \\frac{(m-\\alpha) + m + M + (M+\\beta)}{4} + w\\frac{m + M}{2} $$"
   ]
  },
  {
   "cell_type": "markdown",
   "id": "6b852fb1",
   "metadata": {},
   "source": [
    "$$ CP(A) \\gt CP(B) \\Rightarrow A \\gt B $$"
   ]
  },
  {
   "cell_type": "markdown",
   "id": "21b7e4f2",
   "metadata": {},
   "source": [
    "<center> <h4>The output of sets occurs in ascending order of the value of CP</h4> </center>"
   ]
  },
  {
   "cell_type": "code",
   "execution_count": 4,
   "id": "f7e252b7",
   "metadata": {},
   "outputs": [
    {
     "name": "stdout",
     "output_type": "stream",
     "text": [
      "Fuzzy_set(m: 5, M: 5, a: 2, b: 4)\n",
      "Fuzzy_set(m: 6, M: 6, a: 5, b: 4)\n",
      "Fuzzy_set(m: 7, M: 7, a: 4, b: 1)\n"
     ]
    }
   ],
   "source": [
    "print(*fuzzy_sort.сhewPark(A, B, C, w=1),sep='\\n') # The parameter W has a default value of 1"
   ]
  },
  {
   "cell_type": "markdown",
   "id": "1c1ef495",
   "metadata": {},
   "source": [
    "## Chang's method"
   ]
  },
  {
   "cell_type": "markdown",
   "id": "554f3bc3",
   "metadata": {},
   "source": [
    "$$ CH(A) = \\frac{M^2 + M(M+\\beta) + (M+\\beta)^2 - (m-\\alpha)^2 - (m-\\alpha)m - m^2}{6} $$"
   ]
  },
  {
   "cell_type": "markdown",
   "id": "f1d198b0",
   "metadata": {},
   "source": [
    "$$ CH(A) \\gt CH(B) \\Rightarrow A \\gt B $$"
   ]
  },
  {
   "cell_type": "markdown",
   "id": "24b65b56",
   "metadata": {},
   "source": [
    "<center> <h4>The output of sets occurs in ascending order of the value of CH</h4> </center>"
   ]
  },
  {
   "cell_type": "code",
   "execution_count": 5,
   "id": "f3b9d3c2",
   "metadata": {},
   "outputs": [
    {
     "name": "stdout",
     "output_type": "stream",
     "text": [
      "Fuzzy_set(m: 7, M: 7, a: 4, b: 1)\n",
      "Fuzzy_set(m: 5, M: 5, a: 2, b: 4)\n",
      "Fuzzy_set(m: 6, M: 6, a: 5, b: 4)\n"
     ]
    }
   ],
   "source": [
    "print(*fuzzy_sort.chang(A, B, C),sep='\\n')"
   ]
  },
  {
   "cell_type": "markdown",
   "id": "1957c253",
   "metadata": {},
   "source": [
    "## Kaufman-Gupt method"
   ]
  },
  {
   "cell_type": "markdown",
   "id": "5219a436",
   "metadata": {},
   "source": [
    "$$ kg_{1}(A) = \\frac{(m-\\alpha) + 2m + 2M + (M+\\beta)}{6}, $$"
   ]
  },
  {
   "cell_type": "markdown",
   "id": "a2cc1ea0",
   "metadata": {},
   "source": [
    "$$ kg_{2}(A) = \\frac{m + M}{2}, $$"
   ]
  },
  {
   "cell_type": "markdown",
   "id": "34b36be5",
   "metadata": {},
   "source": [
    "$$ kg_{3}(A) = (M + \\beta) - (m - \\alpha) $$"
   ]
  },
  {
   "cell_type": "markdown",
   "id": "ca8a0196",
   "metadata": {},
   "source": [
    "$$ A \\geq B \\Rightarrow $$"
   ]
  },
  {
   "cell_type": "markdown",
   "id": "bd2d9709",
   "metadata": {},
   "source": [
    "$$ kg_{1}(A) \\gt kg_{1}(B) \\ \\ OR $$"
   ]
  },
  {
   "cell_type": "markdown",
   "id": "a9e0d9ae",
   "metadata": {},
   "source": [
    "$$ kg_{1}(A) = kg_{1}(B) \\ \\ AND\\ \\ kg_{2}(A) \\gt kg_{2}(B)\\ \\ OR\\ $$"
   ]
  },
  {
   "cell_type": "markdown",
   "id": "94f22d71",
   "metadata": {},
   "source": [
    "$$ kg_{1}(A) = kg_{1}(B)\\ \\ AND\\ \\ kg_{2}(A) = kg_{2}(B) \\ \\ AND\\ \\ kg_{3}(a) \\gt kg_{3}(B) $$"
   ]
  },
  {
   "cell_type": "code",
   "execution_count": 6,
   "id": "e99b343e",
   "metadata": {},
   "outputs": [
    {
     "name": "stdout",
     "output_type": "stream",
     "text": [
      "Fuzzy_set(m: 5, M: 5, a: 2, b: 4)\n",
      "Fuzzy_set(m: 6, M: 6, a: 5, b: 4)\n",
      "Fuzzy_set(m: 7, M: 7, a: 4, b: 1)\n"
     ]
    }
   ],
   "source": [
    "print(*fuzzy_sort.kaufmanGupt(A, B, C),sep='\\n')"
   ]
  },
  {
   "cell_type": "markdown",
   "id": "3fff1ba7",
   "metadata": {},
   "source": [
    "## Jane's method"
   ]
  },
  {
   "cell_type": "markdown",
   "id": "580ed9a4",
   "metadata": {},
   "source": [
    "$$ B = (\\infty, M, \\infty, \\beta)\\ \\ OR\\ \\ B = (m, \\infty, \\alpha, \\infty)$$"
   ]
  },
  {
   "cell_type": "markdown",
   "id": "12122017",
   "metadata": {},
   "source": [
    "$$ m_{B} - \\alpha_{B} \\leqslant m_{i}-\\alpha_{i},\\ M_{i} + \\beta_{i} \\leqslant M_{B} + \\beta_{B} $$"
   ]
  },
  {
   "cell_type": "markdown",
   "id": "b12238c2",
   "metadata": {},
   "source": [
    "$$ Pos(A_{i} \\in B) = \\max_{x}\\min\\{\\mu_{A_{i}}(X),\\ \\mu_{B}(X)\\} $$"
   ]
  },
  {
   "cell_type": "markdown",
   "id": "5366093d",
   "metadata": {},
   "source": [
    "<center> <h4>The output of sets occurs in ascending order of the value of Pos(A<sub>i</sub> &#8712; B)</h4> </center>"
   ]
  },
  {
   "cell_type": "markdown",
   "id": "41bd6e83",
   "metadata": {},
   "source": [
    "<center><h4> For example, we define the set B as B = (10, &#8734;, 10, &#8734;)</h4></center>"
   ]
  },
  {
   "cell_type": "code",
   "execution_count": 7,
   "id": "ab6a3d43",
   "metadata": {},
   "outputs": [
    {
     "name": "stdout",
     "output_type": "stream",
     "text": [
      "Fuzzy_set(m: 5, M: 5, a: 2, b: 4)\n",
      "Fuzzy_set(m: 6, M: 6, a: 5, b: 4)\n",
      "Fuzzy_set(m: 7, M: 7, a: 4, b: 1)\n"
     ]
    }
   ],
   "source": [
    "fuzzy_sort.jane(10, float('inf'), 10, float('inf'), A, B, C)\n",
    "\n",
    "# Equivalent to\n",
    "\n",
    "fuzzy_sort.jane(10, 0, 10, 0, A, B, C)\n",
    "\n",
    "print(*fuzzy_sort.jane(10, 0, 10, 0, A, B, C),sep='\\n')"
   ]
  },
  {
   "cell_type": "markdown",
   "id": "aaac65ac",
   "metadata": {},
   "source": [
    "## Dubois-Prades method"
   ]
  },
  {
   "cell_type": "markdown",
   "id": "5d0cca91",
   "metadata": {},
   "source": [
    "$$ PD(A_{i}) = Pos(A_{i} \\geq \\max_{j\\ \\ne\\  i} A_{j}) = \\min_{j\\ \\ne\\ i}\\max_{x,\\ y}\\min\\{\\mu_{A_{i}}(X),\\ \\mu_{A_{j}}(X)\\} $$"
   ]
  },
  {
   "cell_type": "markdown",
   "id": "6966dac5",
   "metadata": {},
   "source": [
    "<center> <h4>The output of sets occurs in ascending order of the value of PD(A<sub>i</sub>)</h4> </center>"
   ]
  },
  {
   "cell_type": "code",
   "execution_count": 8,
   "id": "61e77ec1",
   "metadata": {},
   "outputs": [
    {
     "name": "stdout",
     "output_type": "stream",
     "text": [
      "Fuzzy_set(m: 5, M: 5, a: 2, b: 4)\n",
      "Fuzzy_set(m: 6, M: 6, a: 5, b: 4)\n",
      "Fuzzy_set(m: 7, M: 7, a: 4, b: 1)\n"
     ]
    }
   ],
   "source": [
    "print(*fuzzy_sort.duboisPrades(A, B, C),sep='\\n')"
   ]
  }
 ],
 "metadata": {
  "kernelspec": {
   "display_name": "Python 3",
   "language": "python",
   "name": "python3"
  },
  "language_info": {
   "codemirror_mode": {
    "name": "ipython",
    "version": 3
   },
   "file_extension": ".py",
   "mimetype": "text/x-python",
   "name": "python",
   "nbconvert_exporter": "python",
   "pygments_lexer": "ipython3",
   "version": "3.8.8"
  }
 },
 "nbformat": 4,
 "nbformat_minor": 5
}
